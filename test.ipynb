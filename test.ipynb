{
 "cells": [
  {
   "cell_type": "code",
   "execution_count": 7,
   "metadata": {},
   "outputs": [],
   "source": [
    "import huspacy\n",
    "import spacy"
   ]
  },
  {
   "cell_type": "code",
   "execution_count": 8,
   "metadata": {},
   "outputs": [],
   "source": [
    "nlp = spacy.load(\"hu_core_news_lg\")\n",
    "text = \"A z/2. pontban említett jelzőtábla alatt elhelyezett kiegészítő jelzőtábla (95/c. ábra) azt jelzi, hogy az úton olyan kereszteződés van, ahol fokozottan számítani kell kerékpárosok keresztirányú közlekedésére;\""
   ]
  },
  {
   "cell_type": "code",
   "execution_count": 9,
   "metadata": {},
   "outputs": [
    {
     "name": "stdout",
     "output_type": "stream",
     "text": [
      "Token: A, POS: DET, Dep: det, Head: z/2., Lemma: a, Tag: DET\n",
      "Token: z/2., POS: ADJ, Dep: nmod:att, Head: jelzőtábla, Lemma: z/2., Tag: NOUN\n",
      "Token: pontban, POS: NOUN, Dep: obl, Head: említett, Lemma: pont, Tag: NOUN\n",
      "Token: említett, POS: ADJ, Dep: amod:att, Head: jelzőtábla, Lemma: említett, Tag: ADJ\n",
      "Token: jelzőtábla, POS: NOUN, Dep: obl, Head: elhelyezett, Lemma: jelzőtábla, Tag: NOUN\n",
      "Token: alatt, POS: ADP, Dep: case, Head: jelzőtábla, Lemma: alatt, Tag: ADP\n",
      "Token: elhelyezett, POS: ADJ, Dep: amod:att, Head: jelzőtábla, Lemma: elhelyezett, Tag: ADJ\n",
      "Token: kiegészítő, POS: ADJ, Dep: amod:att, Head: jelzőtábla, Lemma: kiegészítő, Tag: ADJ\n",
      "Token: jelzőtábla, POS: NOUN, Dep: ROOT, Head: jelzőtábla, Lemma: jelzőtábla, Tag: NOUN\n",
      "Token: (, POS: PUNCT, Dep: punct, Head: 95/c, Lemma: (, Tag: PUNCT\n",
      "Token: 95/c, POS: NUM, Dep: parataxis, Head: jelzőtábla, Lemma: 95/c, Tag: PROPN\n",
      "Token: ., POS: PUNCT, Dep: punct, Head: 95/c, Lemma: ., Tag: PUNCT\n",
      "Token: ábra, POS: NOUN, Dep: nsubj, Head: jelzi, Lemma: ábra, Tag: NOUN\n",
      "Token: ), POS: PUNCT, Dep: punct, Head: ábra, Lemma: ), Tag: PUNCT\n",
      "Token: azt, POS: PRON, Dep: obj, Head: jelzi, Lemma: az, Tag: PRON\n",
      "Token: jelzi, POS: VERB, Dep: ROOT, Head: jelzi, Lemma: jelez, Tag: VERB\n",
      "Token: ,, POS: PUNCT, Dep: punct, Head: van, Lemma: ,, Tag: PUNCT\n",
      "Token: hogy, POS: SCONJ, Dep: mark, Head: van, Lemma: hogy, Tag: SCONJ\n",
      "Token: az, POS: DET, Dep: det, Head: úton, Lemma: az, Tag: DET\n",
      "Token: úton, POS: NOUN, Dep: obl, Head: van, Lemma: út, Tag: NOUN\n",
      "Token: olyan, POS: ADJ, Dep: amod:att, Head: kereszteződés, Lemma: olyan, Tag: ADJ\n",
      "Token: kereszteződés, POS: NOUN, Dep: nsubj, Head: van, Lemma: kereszteződés, Tag: NOUN\n",
      "Token: van, POS: VERB, Dep: ccomp:obj, Head: jelzi, Lemma: van, Tag: VERB\n",
      "Token: ,, POS: PUNCT, Dep: punct, Head: kell, Lemma: ,, Tag: PUNCT\n",
      "Token: ahol, POS: ADV, Dep: advmod:locy, Head: kell, Lemma: ahol, Tag: ADV\n",
      "Token: fokozottan, POS: ADJ, Dep: advmod:mode, Head: számítani, Lemma: fokozott, Tag: ADJ\n",
      "Token: számítani, POS: VERB, Dep: xcomp, Head: kell, Lemma: számít, Tag: VERB\n",
      "Token: kell, POS: VERB, Dep: ccomp, Head: van, Lemma: kell, Tag: VERB\n",
      "Token: kerékpárosok, POS: NOUN, Dep: nmod:att, Head: közlekedésére, Lemma: kerékpáros, Tag: NOUN\n",
      "Token: keresztirányú, POS: ADJ, Dep: amod:att, Head: közlekedésére, Lemma: keresztirányú, Tag: ADJ\n",
      "Token: közlekedésére, POS: NOUN, Dep: obl, Head: kell, Lemma: közlekedés, Tag: NOUN\n",
      "Token: ;, POS: PUNCT, Dep: punct, Head: kell, Lemma: ;, Tag: PUNCT\n"
     ]
    }
   ],
   "source": [
    "# Process the sentence\n",
    "doc = nlp(text)\n",
    "\n",
    "# Print the key details for each token\n",
    "for token in doc:\n",
    "    print(f\"Token: {token.text}, POS: {token.pos_}, Dep: {token.dep_}, Head: {token.head.text}, Lemma: {token.lemma_}, Tag: {token.tag_}\")"
   ]
  },
  {
   "cell_type": "code",
   "execution_count": 10,
   "metadata": {},
   "outputs": [
    {
     "name": "stdout",
     "output_type": "stream",
     "text": [
      "Root verb and its clauses:\n",
      "Root verb: jelzőtábla\n",
      "\n",
      "Clauses:\n",
      "Root verb: jelzi\n",
      "\n",
      "Clauses:\n"
     ]
    }
   ],
   "source": [
    "print(\"Root verb and its clauses:\")\n",
    "for token in doc:\n",
    "    if token.dep_ == \"ROOT\":\n",
    "        print(f\"Root verb: {token.text}\")\n",
    "        print(\"\\nClauses:\")\n",
    "        for child in token.children:\n",
    "            if child.dep_ in [\"ccomp\", \"advcl\", \"relcl\"]:\n",
    "                print(f\" - Clause: '{child.text}' ({child.dep_}) | Head: {child.head.text}\")\n",
    "            elif child.dep_ == \"mark\":  # Marks clause beginnings, e.g., \"hogy\"\n",
    "                print(f\" - Clause marker: '{child.text}'\")"
   ]
  }
 ],
 "metadata": {
  "kernelspec": {
   "display_name": "venv",
   "language": "python",
   "name": "python3"
  },
  "language_info": {
   "codemirror_mode": {
    "name": "ipython",
    "version": 3
   },
   "file_extension": ".py",
   "mimetype": "text/x-python",
   "name": "python",
   "nbconvert_exporter": "python",
   "pygments_lexer": "ipython3",
   "version": "3.12.5"
  }
 },
 "nbformat": 4,
 "nbformat_minor": 2
}
